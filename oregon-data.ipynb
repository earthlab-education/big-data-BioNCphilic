{
 "cells": [
  {
   "cell_type": "code",
   "execution_count": 1,
   "metadata": {},
   "outputs": [],
   "source": [
    "# Import needed packages\n",
    "import requests # For making HTTP requests\n",
    "import os # Interoperable file paths\n",
    "import pathlib  # Work with file and directory paths\n",
    "import zipfile # Work with zip files\n",
    "\n",
    "import geopandas as gpd # Work with geospatial data\n",
    "import rasterio # Read, write, and manipulate raster datasets"
   ]
  },
  {
   "cell_type": "code",
   "execution_count": 2,
   "metadata": {},
   "outputs": [],
   "source": [
    "data_dir = os.path.join(\n",
    "    pathlib.Path.home(),\n",
    "    'Documents',\n",
    "    'eaclassprojects',\n",
    "    'bigdata',\n",
    "    'oregon'\n",
    "    )\n",
    "os.makedirs(data_dir, exist_ok=True)"
   ]
  },
  {
   "cell_type": "code",
   "execution_count": 3,
   "metadata": {},
   "outputs": [
    {
     "ename": "HTTPError",
     "evalue": "403 Client Error: Forbidden for url: https://www2.census.gov/geo/tiger/TIGER2023/COUNTY/tl_2023_us_county.zip",
     "output_type": "error",
     "traceback": [
      "\u001b[1;31m---------------------------------------------------------------------------\u001b[0m",
      "\u001b[1;31mHTTPError\u001b[0m                                 Traceback (most recent call last)",
      "Cell \u001b[1;32mIn[3], line 9\u001b[0m\n\u001b[0;32m      7\u001b[0m \u001b[38;5;66;03m# Download the shapefile\u001b[39;00m\n\u001b[0;32m      8\u001b[0m response \u001b[38;5;241m=\u001b[39m requests\u001b[38;5;241m.\u001b[39mget(url)\n\u001b[1;32m----> 9\u001b[0m \u001b[43mresponse\u001b[49m\u001b[38;5;241;43m.\u001b[39;49m\u001b[43mraise_for_status\u001b[49m\u001b[43m(\u001b[49m\u001b[43m)\u001b[49m\n\u001b[0;32m     11\u001b[0m \u001b[38;5;66;03m# Extract the shapefile\u001b[39;00m\n\u001b[0;32m     12\u001b[0m \u001b[38;5;28;01mwith\u001b[39;00m \u001b[38;5;28mopen\u001b[39m(\u001b[38;5;124m\"\u001b[39m\u001b[38;5;124mtl_2023_us_county.zip\u001b[39m\u001b[38;5;124m\"\u001b[39m, \u001b[38;5;124m\"\u001b[39m\u001b[38;5;124mwb\u001b[39m\u001b[38;5;124m\"\u001b[39m) \u001b[38;5;28;01mas\u001b[39;00m f:\n",
      "File \u001b[1;32mc:\\Users\\stem2\\miniconda3\\envs\\earth-analytics-python\\Lib\\site-packages\\requests\\models.py:1024\u001b[0m, in \u001b[0;36mResponse.raise_for_status\u001b[1;34m(self)\u001b[0m\n\u001b[0;32m   1019\u001b[0m     http_error_msg \u001b[38;5;241m=\u001b[39m (\n\u001b[0;32m   1020\u001b[0m         \u001b[38;5;124mf\u001b[39m\u001b[38;5;124m\"\u001b[39m\u001b[38;5;132;01m{\u001b[39;00m\u001b[38;5;28mself\u001b[39m\u001b[38;5;241m.\u001b[39mstatus_code\u001b[38;5;132;01m}\u001b[39;00m\u001b[38;5;124m Server Error: \u001b[39m\u001b[38;5;132;01m{\u001b[39;00mreason\u001b[38;5;132;01m}\u001b[39;00m\u001b[38;5;124m for url: \u001b[39m\u001b[38;5;132;01m{\u001b[39;00m\u001b[38;5;28mself\u001b[39m\u001b[38;5;241m.\u001b[39murl\u001b[38;5;132;01m}\u001b[39;00m\u001b[38;5;124m\"\u001b[39m\n\u001b[0;32m   1021\u001b[0m     )\n\u001b[0;32m   1023\u001b[0m \u001b[38;5;28;01mif\u001b[39;00m http_error_msg:\n\u001b[1;32m-> 1024\u001b[0m     \u001b[38;5;28;01mraise\u001b[39;00m HTTPError(http_error_msg, response\u001b[38;5;241m=\u001b[39m\u001b[38;5;28mself\u001b[39m)\n",
      "\u001b[1;31mHTTPError\u001b[0m: 403 Client Error: Forbidden for url: https://www2.census.gov/geo/tiger/TIGER2023/COUNTY/tl_2023_us_county.zip"
     ]
    }
   ],
   "source": [
    "# Define the download path for location data\n",
    "download_path = \"\\eaclassprojects\\bigdata\\oregon\"\n",
    "\n",
    "# Define the URL of the shapefile\n",
    "url = \"https://www2.census.gov/geo/tiger/TIGER2023/COUNTY/tl_2023_us_county.zip\"\n",
    "\n",
    "# Download the shapefile\n",
    "response = requests.get(url)\n",
    "response.raise_for_status()\n",
    "\n",
    "# Extract the shapefile\n",
    "with open(\"tl_2023_us_county.zip\", \"wb\") as f:\n",
    "    f.write(response.content)\n",
    "with zipfile.ZipFile(\"tl_2023_us_county.zip\", \"r\") as zip_ref:\n",
    "    zip_ref.extractall()\n",
    "\n",
    "# Load the shapefile into a GeoDataFrame\n",
    "county_data = gpd.read_file(\"tl_2023_us_county.shp\")\n",
    "\n",
    "# Filter for a specific counties \n",
    "portland_or_county = county_data[(county_data['STATEFP'] == '41') & (county_data['COUNTYFP'] == '051')]\n",
    "\n",
    "# Plot the shapefile\n",
    "portland_or_county.plot()"
   ]
  }
 ],
 "metadata": {
  "kernelspec": {
   "display_name": "earth-analytics-python",
   "language": "python",
   "name": "python3"
  },
  "language_info": {
   "codemirror_mode": {
    "name": "ipython",
    "version": 3
   },
   "file_extension": ".py",
   "mimetype": "text/x-python",
   "name": "python",
   "nbconvert_exporter": "python",
   "pygments_lexer": "ipython3",
   "version": "3.11.10"
  }
 },
 "nbformat": 4,
 "nbformat_minor": 2
}
